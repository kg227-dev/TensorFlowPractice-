{
 "cells": [
  {
   "cell_type": "markdown",
   "metadata": {},
   "source": [
    "# Logistic Regression with Tensorflow "
   ]
  },
  {
   "cell_type": "markdown",
   "metadata": {},
   "source": [
    "Despite the name logistic regression, it is actually a probabilistic classification model. Logistic regression fits a special s-shaped curve by taking the linear regression and transforming the numeric estimate into a probability with the following function:\n",
    "\n",
    "$$\n",
    "ProbabilityOfaClass = \\theta(y) = \\frac{e^y}{1 + e^y} = exp(y) / (1 + exp(y)) = p \n",
    "$$\n",
    "\n",
    "which produces p-values between 0 (as y approaches minus infinity $-\\infty$) and 1 (as y approaches plus infinity $+\\infty$). This now becomes a special kind of non-linear regression."
   ]
  },
  {
   "cell_type": "markdown",
   "metadata": {},
   "source": [
    "## Import Required Libraries "
   ]
  },
  {
   "cell_type": "code",
   "execution_count": 1,
   "metadata": {},
   "outputs": [],
   "source": [
    "import tensorflow as tf\n",
    "import pandas as pd\n",
    "import numpy as np\n",
    "import time\n",
    "from sklearn.datasets import load_iris\n",
    "from sklearn.model_selection import train_test_split\n",
    "import matplotlib.pyplot as plt"
   ]
  },
  {
   "cell_type": "markdown",
   "metadata": {},
   "source": [
    "## Using the Iris Dataset "
   ]
  },
  {
   "cell_type": "markdown",
   "metadata": {},
   "source": [
    "This dataset was introduced by British Statistician and Biologist Ronald Fisher, it consists of 50 samples from each of three species of Iris (Iris setosa, Iris virginica and Iris versicolor). In total it has 150 records under five attributes - petal length, petal width, sepal length, sepal width and species."
   ]
  },
  {
   "cell_type": "code",
   "execution_count": 2,
   "metadata": {},
   "outputs": [],
   "source": [
    "iris = load_iris()\n",
    "\n",
    "iris_X, iris_y = iris.data[:-1,:], iris.target[:-1]\n",
    "iris_y= pd.get_dummies(iris_y).values\n",
    "trainX, testX, trainY, testY = train_test_split(iris_X, iris_y, test_size=0.33, random_state=0)"
   ]
  },
  {
   "cell_type": "markdown",
   "metadata": {},
   "source": [
    "The placeholders x and y allow us to create an algorithm in TensorFlow which accepts data and knows smoething about the shape of the data without knowing the amount of dtaa going in. Also, when we insert \"batches\" of data in training, we can easily adjust how many examples we train on in one step, at the train_test_split function. "
   ]
  },
  {
   "cell_type": "markdown",
   "metadata": {},
   "source": [
    "## Create Placeholders to hold Iris Data "
   ]
  },
  {
   "cell_type": "code",
   "execution_count": 3,
   "metadata": {},
   "outputs": [],
   "source": [
    "# numFeatures is the number of features in our input data.\n",
    "# In the iris dataset, this number is '4'.\n",
    "numFeatures = trainX.shape[1]\n",
    "# numLabels is the number of classes our data points can be in.\n",
    "# In the iris dataset, this number is '3'.\n",
    "numLabels = trainY.shape[1]\n",
    "\n",
    "\n",
    "# Placeholders\n",
    "# 'None' means TensorFlow shouldn't expect a fixed number in that dimension\n",
    "X = tf.placeholder(tf.float32, [None, numFeatures]) # Iris has 4 features, so X is a tensor to hold our data.\n",
    "yGold = tf.placeholder(tf.float32, [None, numLabels]) # This will be our correct answers matrix for 3 classes."
   ]
  },
  {
   "cell_type": "markdown",
   "metadata": {},
   "source": [
    "## Initialize TensorFlow Variables as Parameters "
   ]
  },
  {
   "cell_type": "code",
   "execution_count": 4,
   "metadata": {},
   "outputs": [
    {
     "name": "stdout",
     "output_type": "stream",
     "text": [
      "WARNING:tensorflow:From /Users/kushgulati/anaconda3/lib/python3.7/site-packages/tensorflow/python/framework/op_def_library.py:263: colocate_with (from tensorflow.python.framework.ops) is deprecated and will be removed in a future version.\n",
      "Instructions for updating:\n",
      "Colocations handled automatically by placer.\n"
     ]
    }
   ],
   "source": [
    "W = tf.Variable(tf.zeros([4, 3]))  # 4-dimensional input and  3 classes\n",
    "b = tf.Variable(tf.zeros([3])) # 3-dimensional output [0,0,1],[0,1,0],[1,0,0"
   ]
  },
  {
   "cell_type": "code",
   "execution_count": 5,
   "metadata": {},
   "outputs": [],
   "source": [
    "#Randomly sample from a normal distribution with standard deviation .01\n",
    "\n",
    "weights = tf.Variable(tf.random_normal([numFeatures,numLabels],\n",
    "                                       mean=0,\n",
    "                                       stddev=0.01,\n",
    "                                       name=\"weights\"))\n",
    "\n",
    "bias = tf.Variable(tf.random_normal([1,numLabels],\n",
    "                                    mean=0,\n",
    "                                    stddev=0.01,\n",
    "                                    name=\"bias\"))"
   ]
  },
  {
   "cell_type": "markdown",
   "metadata": {},
   "source": [
    "Logistic regression is typically thought of as a single equation:\n",
    "\n",
    "$$\n",
    "ŷ =sigmoid(WX+b)\n",
    "$$\n",
    "\n",
    "However, for the sake of clarity, we can have it broken into its three main components: \n",
    "- a weight times features matrix multiplication operation, \n",
    "- a summation of the weighted features and a bias term, \n",
    "- and finally the application of a sigmoid function. "
   ]
  },
  {
   "cell_type": "code",
   "execution_count": 6,
   "metadata": {},
   "outputs": [],
   "source": [
    "# Three-component breakdown of the Logistic Regression equation.\n",
    "# Note that these feed into each other.\n",
    "apply_weights_OP = tf.matmul(X, weights, name=\"apply_weights\")\n",
    "add_bias_OP = tf.add(apply_weights_OP, bias, name=\"add_bias\") \n",
    "activation_OP = tf.nn.sigmoid(add_bias_OP, name=\"activation\")"
   ]
  },
  {
   "cell_type": "markdown",
   "metadata": {},
   "source": [
    "# Training"
   ]
  },
  {
   "cell_type": "markdown",
   "metadata": {},
   "source": [
    "## Cost Function "
   ]
  },
  {
   "cell_type": "markdown",
   "metadata": {},
   "source": [
    "We want to minimize the cost function in our model, which is the Squared Mean Error loss function. We will use batch gradient descent to minimize the cost funtion, which calculates the gradient from all data points in the data set. "
   ]
  },
  {
   "cell_type": "code",
   "execution_count": 25,
   "metadata": {},
   "outputs": [],
   "source": [
    "# Number of Epochs in our training\n",
    "numEpochs = 1000\n",
    "\n",
    "# Defining our learning rate iterations (decay)\n",
    "learningRate = tf.train.exponential_decay(learning_rate=0.0020,\n",
    "                                          global_step= 1,\n",
    "                                          decay_steps=trainX.shape[0],\n",
    "                                          decay_rate= 0.95,\n",
    "                                          staircase=True)"
   ]
  },
  {
   "cell_type": "code",
   "execution_count": 26,
   "metadata": {},
   "outputs": [],
   "source": [
    "#Defining our cost function - Squared Mean Error\n",
    "cost_OP = tf.nn.l2_loss(activation_OP-yGold, name=\"squared_error_cost\")\n",
    "\n",
    "#Defining our Gradient Descent\n",
    "training_OP = tf.train.GradientDescentOptimizer(learningRate).minimize(cost_OP)"
   ]
  },
  {
   "cell_type": "markdown",
   "metadata": {},
   "source": [
    "## Initialize TensorFlow Session "
   ]
  },
  {
   "cell_type": "code",
   "execution_count": 27,
   "metadata": {},
   "outputs": [],
   "source": [
    "# Create a tensorflow session\n",
    "sess = tf.Session()\n",
    "\n",
    "# Initialize our weights and biases variables.\n",
    "init_OP = tf.global_variables_initializer()\n",
    "\n",
    "# Initialize all tensorflow variables\n",
    "sess.run(init_OP)"
   ]
  },
  {
   "cell_type": "code",
   "execution_count": 28,
   "metadata": {},
   "outputs": [],
   "source": [
    "# argmax(activation_OP, 1) returns the label with the most probability\n",
    "# argmax(yGold, 1) is the correct label\n",
    "correct_predictions_OP = tf.equal(tf.argmax(activation_OP,1),tf.argmax(yGold,1))\n",
    "\n",
    "# If every false prediction is 0 and every true prediction is 1, the average returns us the accuracy\n",
    "accuracy_OP = tf.reduce_mean(tf.cast(correct_predictions_OP, \"float\"))\n",
    "\n",
    "# Summary op for regression output\n",
    "activation_summary_OP = tf.summary.histogram(\"output\", activation_OP)\n",
    "\n",
    "# Summary op for accuracy\n",
    "accuracy_summary_OP = tf.summary.scalar(\"accuracy\", accuracy_OP)\n",
    "\n",
    "# Summary op for cost\n",
    "cost_summary_OP = tf.summary.scalar(\"cost\", cost_OP)\n",
    "\n",
    "# Summary ops to check how variables (W, b) are updating after each iteration\n",
    "weightSummary = tf.summary.histogram(\"weights\", weights.eval(session=sess))\n",
    "biasSummary = tf.summary.histogram(\"biases\", bias.eval(session=sess))\n",
    "\n",
    "# Merge all summaries\n",
    "merged = tf.summary.merge([activation_summary_OP, accuracy_summary_OP, cost_summary_OP, weightSummary, biasSummary])\n",
    "\n",
    "# Summary writer\n",
    "writer = tf.summary.FileWriter(\"summary_logs\", sess.graph)"
   ]
  },
  {
   "cell_type": "code",
   "execution_count": 29,
   "metadata": {},
   "outputs": [
    {
     "name": "stdout",
     "output_type": "stream",
     "text": [
      "step 0, training accuracy 0.343434, cost 32.1479, change in cost 32.1479\n",
      "step 10, training accuracy 0.686869, cost 26.1753, change in cost 5.97254\n",
      "step 20, training accuracy 0.686869, cost 22.717, change in cost 3.45835\n",
      "step 30, training accuracy 0.686869, cost 20.6499, change in cost 2.0671\n",
      "step 40, training accuracy 0.686869, cost 19.3254, change in cost 1.3245\n",
      "step 50, training accuracy 0.686869, cost 18.4108, change in cost 0.914618\n",
      "step 60, training accuracy 0.686869, cost 17.7378, change in cost 0.672993\n",
      "step 70, training accuracy 0.686869, cost 17.2166, change in cost 0.521162\n",
      "step 80, training accuracy 0.707071, cost 16.7963, change in cost 0.42033\n",
      "step 90, training accuracy 0.707071, cost 16.4461, change in cost 0.350149\n",
      "step 100, training accuracy 0.707071, cost 16.1468, change in cost 0.299328\n",
      "step 110, training accuracy 0.727273, cost 15.8855, change in cost 0.261254\n",
      "step 120, training accuracy 0.727273, cost 15.6537, change in cost 0.231888\n",
      "step 130, training accuracy 0.737374, cost 15.445, change in cost 0.208662\n",
      "step 140, training accuracy 0.79798, cost 15.2551, change in cost 0.189878\n",
      "step 150, training accuracy 0.818182, cost 15.0807, change in cost 0.174396\n",
      "step 160, training accuracy 0.838384, cost 14.9193, change in cost 0.161416\n",
      "step 170, training accuracy 0.848485, cost 14.7689, change in cost 0.150371\n",
      "step 180, training accuracy 0.848485, cost 14.6281, change in cost 0.140848\n",
      "step 190, training accuracy 0.858586, cost 14.4955, change in cost 0.132538\n",
      "step 200, training accuracy 0.858586, cost 14.3703, change in cost 0.125216\n",
      "step 210, training accuracy 0.858586, cost 14.2516, change in cost 0.118704\n",
      "step 220, training accuracy 0.858586, cost 14.1388, change in cost 0.112864\n",
      "step 230, training accuracy 0.858586, cost 14.0312, change in cost 0.107593\n",
      "step 240, training accuracy 0.878788, cost 13.9284, change in cost 0.102799\n",
      "step 250, training accuracy 0.878788, cost 13.83, change in cost 0.0984154\n",
      "step 260, training accuracy 0.878788, cost 13.7356, change in cost 0.0943899\n",
      "step 270, training accuracy 0.878788, cost 13.6449, change in cost 0.0906725\n",
      "step 280, training accuracy 0.878788, cost 13.5577, change in cost 0.0872288\n",
      "step 290, training accuracy 0.888889, cost 13.4736, change in cost 0.0840225\n",
      "step 300, training accuracy 0.888889, cost 13.3926, change in cost 0.0810308\n",
      "step 310, training accuracy 0.89899, cost 13.3144, change in cost 0.078228\n",
      "step 320, training accuracy 0.89899, cost 13.2388, change in cost 0.0755978\n",
      "step 330, training accuracy 0.919192, cost 13.1657, change in cost 0.0731239\n",
      "step 340, training accuracy 0.919192, cost 13.0949, change in cost 0.0707865\n",
      "step 350, training accuracy 0.919192, cost 13.0263, change in cost 0.0685787\n",
      "step 360, training accuracy 0.919192, cost 12.9598, change in cost 0.0664883\n",
      "step 370, training accuracy 0.919192, cost 12.8953, change in cost 0.0645037\n",
      "step 380, training accuracy 0.919192, cost 12.8327, change in cost 0.0626192\n",
      "step 390, training accuracy 0.919192, cost 12.7719, change in cost 0.0608225\n",
      "step 400, training accuracy 0.919192, cost 12.7127, change in cost 0.0591135\n",
      "step 410, training accuracy 0.919192, cost 12.6553, change in cost 0.0574818\n",
      "step 420, training accuracy 0.919192, cost 12.5993, change in cost 0.0559235\n",
      "step 430, training accuracy 0.929293, cost 12.5449, change in cost 0.054431\n",
      "step 440, training accuracy 0.929293, cost 12.4919, change in cost 0.0530033\n",
      "step 450, training accuracy 0.929293, cost 12.4403, change in cost 0.0516348\n",
      "step 460, training accuracy 0.929293, cost 12.3899, change in cost 0.0503225\n",
      "step 470, training accuracy 0.929293, cost 12.3409, change in cost 0.0490637\n",
      "step 480, training accuracy 0.929293, cost 12.293, change in cost 0.0478516\n",
      "step 490, training accuracy 0.929293, cost 12.2463, change in cost 0.0466881\n",
      "step 500, training accuracy 0.929293, cost 12.2008, change in cost 0.0455685\n",
      "step 510, training accuracy 0.929293, cost 12.1563, change in cost 0.0444899\n",
      "step 520, training accuracy 0.929293, cost 12.1128, change in cost 0.0434504\n",
      "step 530, training accuracy 0.929293, cost 12.0704, change in cost 0.04245\n",
      "step 540, training accuracy 0.929293, cost 12.0289, change in cost 0.0414801\n",
      "step 550, training accuracy 0.929293, cost 11.9884, change in cost 0.0405512\n",
      "step 560, training accuracy 0.929293, cost 11.9487, change in cost 0.0396509\n",
      "step 570, training accuracy 0.929293, cost 11.9099, change in cost 0.0387774\n",
      "step 580, training accuracy 0.939394, cost 11.872, change in cost 0.0379381\n",
      "step 590, training accuracy 0.939394, cost 11.8349, change in cost 0.0371237\n",
      "step 600, training accuracy 0.939394, cost 11.7985, change in cost 0.0363359\n",
      "step 610, training accuracy 0.939394, cost 11.763, change in cost 0.0355759\n",
      "step 620, training accuracy 0.939394, cost 11.7281, change in cost 0.0348368\n",
      "step 630, training accuracy 0.939394, cost 11.694, change in cost 0.0341206\n",
      "step 640, training accuracy 0.939394, cost 11.6606, change in cost 0.0334301\n",
      "step 650, training accuracy 0.939394, cost 11.6278, change in cost 0.0327549\n",
      "step 660, training accuracy 0.939394, cost 11.5957, change in cost 0.0321035\n",
      "step 670, training accuracy 0.939394, cost 11.5642, change in cost 0.0314741\n",
      "step 680, training accuracy 0.939394, cost 11.5334, change in cost 0.030859\n",
      "step 690, training accuracy 0.939394, cost 11.5031, change in cost 0.0302639\n",
      "step 700, training accuracy 0.939394, cost 11.4734, change in cost 0.029685\n",
      "step 710, training accuracy 0.939394, cost 11.4443, change in cost 0.0291224\n",
      "step 720, training accuracy 0.939394, cost 11.4157, change in cost 0.0285769\n",
      "step 730, training accuracy 0.949495, cost 11.3877, change in cost 0.0280447\n",
      "step 740, training accuracy 0.949495, cost 11.3602, change in cost 0.0275297\n",
      "step 750, training accuracy 0.949495, cost 11.3331, change in cost 0.0270262\n",
      "step 760, training accuracy 0.959596, cost 11.3066, change in cost 0.0265398\n",
      "step 770, training accuracy 0.959596, cost 11.2805, change in cost 0.0260611\n",
      "step 780, training accuracy 0.959596, cost 11.2549, change in cost 0.0256004\n",
      "step 790, training accuracy 0.959596, cost 11.2298, change in cost 0.0251484\n",
      "step 800, training accuracy 0.959596, cost 11.2051, change in cost 0.0247097\n",
      "step 810, training accuracy 0.959596, cost 11.1808, change in cost 0.0242825\n",
      "step 820, training accuracy 0.959596, cost 11.1569, change in cost 0.0238676\n",
      "step 830, training accuracy 0.959596, cost 11.1335, change in cost 0.0234604\n",
      "step 840, training accuracy 0.959596, cost 11.1104, change in cost 0.0230637\n",
      "step 850, training accuracy 0.959596, cost 11.0877, change in cost 0.0226793\n",
      "step 860, training accuracy 0.959596, cost 11.0654, change in cost 0.0223017\n",
      "step 870, training accuracy 0.959596, cost 11.0435, change in cost 0.0219364\n",
      "step 880, training accuracy 0.959596, cost 11.0219, change in cost 0.0215769\n",
      "step 890, training accuracy 0.959596, cost 11.0007, change in cost 0.0212259\n",
      "step 900, training accuracy 0.959596, cost 10.9798, change in cost 0.0208874\n",
      "step 910, training accuracy 0.959596, cost 10.9592, change in cost 0.0205536\n",
      "step 920, training accuracy 0.959596, cost 10.939, change in cost 0.0202293\n",
      "step 930, training accuracy 0.959596, cost 10.9191, change in cost 0.0199099\n",
      "step 940, training accuracy 0.959596, cost 10.8995, change in cost 0.0195999\n",
      "step 950, training accuracy 0.959596, cost 10.8802, change in cost 0.0192995\n",
      "step 960, training accuracy 0.959596, cost 10.8612, change in cost 0.019001\n",
      "step 970, training accuracy 0.959596, cost 10.8425, change in cost 0.0187111\n",
      "step 980, training accuracy 0.959596, cost 10.824, change in cost 0.0184307\n",
      "step 990, training accuracy 0.959596, cost 10.8059, change in cost 0.0181522\n",
      "final accuracy on test set: 0.88\n"
     ]
    }
   ],
   "source": [
    "# Initialize reporting variables\n",
    "cost = 0\n",
    "diff = 1\n",
    "epoch_values = []\n",
    "accuracy_values = []\n",
    "cost_values = []\n",
    "\n",
    "# Training epochs\n",
    "for i in range(numEpochs):\n",
    "    if i > 1 and diff < .0001:\n",
    "        print(\"change in cost %g; convergence.\"%diff)\n",
    "        break\n",
    "    else:\n",
    "        # Run training step\n",
    "        step = sess.run(training_OP, feed_dict={X: trainX, yGold: trainY})\n",
    "        # Report occasional stats\n",
    "        if i % 10 == 0:\n",
    "            # Add epoch to epoch_values\n",
    "            epoch_values.append(i)\n",
    "            # Generate accuracy stats on test data\n",
    "            train_accuracy, newCost = sess.run([accuracy_OP, cost_OP], feed_dict={X: trainX, yGold: trainY})\n",
    "            # Add accuracy to live graphing variable\n",
    "            accuracy_values.append(train_accuracy)\n",
    "            # Add cost to live graphing variable\n",
    "            cost_values.append(newCost)\n",
    "            # Re-assign values for variables\n",
    "            diff = abs(newCost - cost)\n",
    "            cost = newCost\n",
    "\n",
    "            #generate print statements\n",
    "            print(\"step %d, training accuracy %g, cost %g, change in cost %g\"%(i, train_accuracy, newCost, diff))\n",
    "\n",
    "\n",
    "# How well do we perform on held-out test data?\n",
    "print(\"final accuracy on test set: %s\" %str(sess.run(accuracy_OP, \n",
    "                                                     feed_dict={X: testX, \n",
    "                                                                yGold: testY})))"
   ]
  },
  {
   "cell_type": "code",
   "execution_count": 30,
   "metadata": {},
   "outputs": [
    {
     "data": {
      "image/png": "[encoded data removed]",
      "text/plain": [
       "<Figure size 432x288 with 1 Axes>"
      ]
     },
     "metadata": {
      "needs_background": "light"
     },
     "output_type": "display_data"
    }
   ],
   "source": [
    "%matplotlib inline\n",
    "import numpy as np\n",
    "import matplotlib.pyplot as plt\n",
    "plt.plot([np.mean(cost_values[i-50:i]) for i in range(len(cost_values))])\n",
    "plt.show()"
   ]
  }
 ],
 "metadata": {
  "kernelspec": {
   "display_name": "Python 3",
   "language": "python",
   "name": "python3"
  },
  "language_info": {
   "codemirror_mode": {
    "name": "ipython",
    "version": 3
   },
   "file_extension": ".py",
   "mimetype": "text/x-python",
   "name": "python",
   "nbconvert_exporter": "python",
   "pygments_lexer": "ipython3",
   "version": "3.7.0"
  }
 },
 "nbformat": 4,
 "nbformat_minor": 2
}
